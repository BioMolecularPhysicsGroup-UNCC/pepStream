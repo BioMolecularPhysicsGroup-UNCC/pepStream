{
 "cells": [
  {
   "cell_type": "markdown",
   "id": "e71918c4",
   "metadata": {},
   "source": [
    "# pepStream notebook prototype\n",
    "This code relies on packages : \\n\n",
    "\n",
    "To run this using cluster resources please run : \\n\n",
    "\n",
    "Copy all the run files to a new directory to prevent overwriting output \\n"
   ]
  },
  {
   "cell_type": "code",
   "execution_count": 120,
   "id": "c1b37cb1",
   "metadata": {},
   "outputs": [],
   "source": [
    "username = \"tgrear\"                     # Insert HPC username string from username.hpc.uncc"
   ]
  },
  {
   "cell_type": "code",
   "execution_count": 126,
   "id": "3ec69706",
   "metadata": {},
   "outputs": [
    {
     "name": "stderr",
     "output_type": "stream",
     "text": [
      "INFO: Successfully saved requirements file in /users/tgrear/pepStream/libCheck/requirements.txt\n"
     ]
    },
    {
     "name": "stdout",
     "output_type": "stream",
     "text": [
      "Requirement already satisfied: Bio==1.4.0 in /users/tgrear/.conda/envs/jupyter_env/lib/python3.10/site-packages (from -r requirements.txt (line 1)) (1.4.0)\n",
      "Requirement already satisfied: matplotlib==3.5.3 in /users/tgrear/.conda/envs/jupyter_env/lib/python3.10/site-packages (from -r requirements.txt (line 2)) (3.5.3)\n",
      "Requirement already satisfied: numpy==1.23.3 in /users/tgrear/.conda/envs/jupyter_env/lib/python3.10/site-packages (from -r requirements.txt (line 3)) (1.23.3)\n",
      "Requirement already satisfied: pandas==1.4.4 in /users/tgrear/.conda/envs/jupyter_env/lib/python3.10/site-packages (from -r requirements.txt (line 4)) (1.4.4)\n",
      "Requirement already satisfied: PyQt5==5.15.7 in /users/tgrear/.conda/envs/jupyter_env/lib/python3.10/site-packages (from -r requirements.txt (line 5)) (5.15.7)\n",
      "Requirement already satisfied: biopython>=1.79 in /users/tgrear/.conda/envs/jupyter_env/lib/python3.10/site-packages (from Bio==1.4.0->-r requirements.txt (line 1)) (1.79)\n",
      "Requirement already satisfied: mygene in /users/tgrear/.conda/envs/jupyter_env/lib/python3.10/site-packages (from Bio==1.4.0->-r requirements.txt (line 1)) (3.2.2)\n",
      "Requirement already satisfied: tqdm in /users/tgrear/.conda/envs/jupyter_env/lib/python3.10/site-packages (from Bio==1.4.0->-r requirements.txt (line 1)) (4.64.1)\n",
      "Requirement already satisfied: requests in /users/tgrear/.conda/envs/jupyter_env/lib/python3.10/site-packages (from Bio==1.4.0->-r requirements.txt (line 1)) (2.28.1)\n",
      "Requirement already satisfied: pyparsing>=2.2.1 in /users/tgrear/.conda/envs/jupyter_env/lib/python3.10/site-packages (from matplotlib==3.5.3->-r requirements.txt (line 2)) (3.0.9)\n",
      "Requirement already satisfied: pillow>=6.2.0 in /users/tgrear/.conda/envs/jupyter_env/lib/python3.10/site-packages (from matplotlib==3.5.3->-r requirements.txt (line 2)) (9.2.0)\n",
      "Requirement already satisfied: kiwisolver>=1.0.1 in /users/tgrear/.conda/envs/jupyter_env/lib/python3.10/site-packages (from matplotlib==3.5.3->-r requirements.txt (line 2)) (1.4.4)\n",
      "Requirement already satisfied: cycler>=0.10 in /users/tgrear/.conda/envs/jupyter_env/lib/python3.10/site-packages (from matplotlib==3.5.3->-r requirements.txt (line 2)) (0.11.0)\n",
      "Requirement already satisfied: python-dateutil>=2.7 in /users/tgrear/.conda/envs/jupyter_env/lib/python3.10/site-packages (from matplotlib==3.5.3->-r requirements.txt (line 2)) (2.8.2)\n",
      "Requirement already satisfied: fonttools>=4.22.0 in /users/tgrear/.conda/envs/jupyter_env/lib/python3.10/site-packages (from matplotlib==3.5.3->-r requirements.txt (line 2)) (4.37.1)\n",
      "Requirement already satisfied: packaging>=20.0 in /users/tgrear/.conda/envs/jupyter_env/lib/python3.10/site-packages (from matplotlib==3.5.3->-r requirements.txt (line 2)) (21.3)\n",
      "Requirement already satisfied: pytz>=2020.1 in /users/tgrear/.conda/envs/jupyter_env/lib/python3.10/site-packages (from pandas==1.4.4->-r requirements.txt (line 4)) (2022.2.1)\n",
      "Requirement already satisfied: PyQt5-Qt5>=5.15.0 in /users/tgrear/.conda/envs/jupyter_env/lib/python3.10/site-packages (from PyQt5==5.15.7->-r requirements.txt (line 5)) (5.15.2)\n",
      "Requirement already satisfied: PyQt5-sip<13,>=12.11 in /users/tgrear/.conda/envs/jupyter_env/lib/python3.10/site-packages (from PyQt5==5.15.7->-r requirements.txt (line 5)) (12.11.0)\n",
      "Requirement already satisfied: six>=1.5 in /users/tgrear/.conda/envs/jupyter_env/lib/python3.10/site-packages (from python-dateutil>=2.7->matplotlib==3.5.3->-r requirements.txt (line 2)) (1.16.0)\n",
      "Requirement already satisfied: biothings-client>=0.2.6 in /users/tgrear/.conda/envs/jupyter_env/lib/python3.10/site-packages (from mygene->Bio==1.4.0->-r requirements.txt (line 1)) (0.2.6)\n",
      "Requirement already satisfied: idna<4,>=2.5 in /users/tgrear/.conda/envs/jupyter_env/lib/python3.10/site-packages (from requests->Bio==1.4.0->-r requirements.txt (line 1)) (3.3)\n",
      "Requirement already satisfied: certifi>=2017.4.17 in /users/tgrear/.conda/envs/jupyter_env/lib/python3.10/site-packages (from requests->Bio==1.4.0->-r requirements.txt (line 1)) (2022.6.15)\n",
      "Requirement already satisfied: charset-normalizer<3,>=2 in /users/tgrear/.conda/envs/jupyter_env/lib/python3.10/site-packages (from requests->Bio==1.4.0->-r requirements.txt (line 1)) (2.1.1)\n",
      "Requirement already satisfied: urllib3<1.27,>=1.21.1 in /users/tgrear/.conda/envs/jupyter_env/lib/python3.10/site-packages (from requests->Bio==1.4.0->-r requirements.txt (line 1)) (1.26.11)\n",
      "-----------------------------------------------------------------------------\n",
      "pepStream: required python packages have been installed/updated successfully.\n"
     ]
    }
   ],
   "source": [
    "# Python package check and update - TG (09-10-2022)\n",
    "import os                               # Import miscellaneous operating system interfaces module for portability\n",
    "home = os.path.expanduser(\"~\")          # Should work for any OS to get home directory path\n",
    "os.chdir(home+fsep+\"pepStream\")         # Navigate to pepStream directory [NM this step needs generalized with os.walk()]\n",
    "\n",
    "if 'pipreqs' in sys.modules == False:   # If pipreqs module does not exist\n",
    "    os.system(\"pip install pipreqs\")    # ^-- Install pipreqs\n",
    "\n",
    "libPath = home+fsep+\"pepStream\"+fsep+\"libCheck\"  # Get path to libCheck directory that contains all python scripts\n",
    "os.chdir(libPath)                                # Navigate to libCheck directory\n",
    "os.system(\"pipreqs --force\")                     # Execute pipreqs to identify required python packages/modules\n",
    "os.system(\"pip install -r requirements.txt\")     # Use generated pyReqs.txt file to update required packages/modules\n",
    "print(\"-----------------------------------------------------------------------------\")\n",
    "print(\"pepStream: required python packages have been installed/updated successfully.\")\n",
    "os.chdir(\"..\")                                   # Navigate back to primary pepStream directory"
   ]
  },
  {
   "cell_type": "code",
   "execution_count": 127,
   "id": "4853c333",
   "metadata": {},
   "outputs": [],
   "source": [
    "# Define the search sequence here : Example is xrd of RIN4 - CNOI of RIN4\n",
    "MySequence = \"PKPTNLRADESPEKVTVVPKFGDWDENNPSSADGYTHIFNKVREERSSGA\" # Please keep the \"\" around the sequence\n",
    "\n",
    "\n",
    "with open('sequenceOfInterest.fasta', 'w') as f:\n",
    "    print(\">contigous sequence for pepStream auto-designed peptides\", file=f)\n",
    "    print(MySequence, file=f)\n",
    "f.close()"
   ]
  },
  {
   "cell_type": "markdown",
   "id": "52df208c",
   "metadata": {},
   "source": [
    "# Creates the search fragements of the seqeuence"
   ]
  },
  {
   "cell_type": "code",
   "execution_count": 128,
   "id": "45b96211",
   "metadata": {},
   "outputs": [
    {
     "name": "stdout",
     "output_type": "stream",
     "text": [
      "No job_id supplied, creating a folder with a random name: out_seq_685875\n",
      "['PKPTNLRADESPEKVTVVPKFGDWDENNPSSADGYTHIFNKVREERSSGA', 'PKPTNLRADESPEKVTVVPKFGDWD', 'ENNPSSADGYTHIFNKVREERSSGA', 'PKPTNLRADESP', 'EKVTVVPKFGDWD', 'ENNPSSADGYTH', 'IFNKVREERSSGA']\n",
      "[array([1., 1., 1., 1., 1., 1., 1., 1., 1., 1., 1., 1., 1., 1., 1., 1., 1.,\n",
      "       1., 1., 1., 1., 1., 1., 1., 1., 1., 1., 1., 1., 1., 1., 1., 1., 1.,\n",
      "       1., 1., 1., 1., 1., 1., 1., 1., 1., 1., 1., 1., 1., 1., 1., 1.]), array([1., 1., 1., 1., 1., 1., 1., 1., 1., 1., 1., 1., 1., 1., 1., 1., 1.,\n",
      "       1., 1., 1., 1., 1., 1., 1., 1., 0., 0., 0., 0., 0., 0., 0., 0., 0.,\n",
      "       0., 0., 0., 0., 0., 0., 0., 0., 0., 0., 0., 0., 0., 0., 0., 0.]), array([0., 0., 0., 0., 0., 0., 0., 0., 0., 0., 0., 0., 0., 0., 0., 0., 0.,\n",
      "       0., 0., 0., 0., 0., 0., 0., 0., 1., 1., 1., 1., 1., 1., 1., 1., 1.,\n",
      "       1., 1., 1., 1., 1., 1., 1., 1., 1., 1., 1., 1., 1., 1., 1., 1.]), array([1., 1., 1., 1., 1., 1., 1., 1., 1., 1., 1., 1., 0., 0., 0., 0., 0.,\n",
      "       0., 0., 0., 0., 0., 0., 0., 0., 0., 0., 0., 0., 0., 0., 0., 0., 0.,\n",
      "       0., 0., 0., 0., 0., 0., 0., 0., 0., 0., 0., 0., 0., 0., 0., 0.]), array([0., 0., 0., 0., 0., 0., 0., 0., 0., 0., 0., 0., 1., 1., 1., 1., 1.,\n",
      "       1., 1., 1., 1., 1., 1., 1., 1., 0., 0., 0., 0., 0., 0., 0., 0., 0.,\n",
      "       0., 0., 0., 0., 0., 0., 0., 0., 0., 0., 0., 0., 0., 0., 0., 0.]), array([0., 0., 0., 0., 0., 0., 0., 0., 0., 0., 0., 0., 0., 0., 0., 0., 0.,\n",
      "       0., 0., 0., 0., 0., 0., 0., 0., 1., 1., 1., 1., 1., 1., 1., 1., 1.,\n",
      "       1., 1., 1., 0., 0., 0., 0., 0., 0., 0., 0., 0., 0., 0., 0., 0.]), array([0., 0., 0., 0., 0., 0., 0., 0., 0., 0., 0., 0., 0., 0., 0., 0., 0.,\n",
      "       0., 0., 0., 0., 0., 0., 0., 0., 0., 0., 0., 0., 0., 0., 0., 0., 0.,\n",
      "       0., 0., 0., 1., 1., 1., 1., 1., 1., 1., 1., 1., 1., 1., 1., 1.])]\n"
     ]
    }
   ],
   "source": [
    "# Variable c1 defines how many partitions to make. Note: at least 3 letter long sequences are needed for BLAST\n",
    "#7\n",
    "%run WindowFootprint.py --f1 sequenceOfInterest.fasta --c1 13 "
   ]
  },
  {
   "cell_type": "code",
   "execution_count": 129,
   "id": "5872a6ba",
   "metadata": {},
   "outputs": [
    {
     "data": {
      "text/plain": [
       "'/users/tgrear/pepStream/out_seq_685875'"
      ]
     },
     "execution_count": 129,
     "metadata": {},
     "output_type": "execute_result"
    }
   ],
   "source": [
    "pwd"
   ]
  },
  {
   "cell_type": "code",
   "execution_count": 130,
   "id": "7c432187",
   "metadata": {},
   "outputs": [
    {
     "data": {
      "text/plain": [
       "['Footprint_0',\n",
       " 'Footprint_1',\n",
       " 'Footprint_2',\n",
       " 'Footprint_3',\n",
       " 'Footprint_4',\n",
       " 'Footprint_5',\n",
       " 'Footprint_6']"
      ]
     },
     "execution_count": 130,
     "metadata": {},
     "output_type": "execute_result"
    }
   ],
   "source": [
    "# get new dir name with fragmented sequences\n",
    "#os.system(\"ls\")\n",
    "import os\n",
    "os.listdir()"
   ]
  },
  {
   "cell_type": "code",
   "execution_count": 131,
   "id": "d9eda046",
   "metadata": {},
   "outputs": [
    {
     "ename": "FileNotFoundError",
     "evalue": "[Errno 2] No such file or directory: 'out_seq_934632'",
     "output_type": "error",
     "traceback": [
      "\u001b[0;31m---------------------------------------------------------------------------\u001b[0m",
      "\u001b[0;31mFileNotFoundError\u001b[0m                         Traceback (most recent call last)",
      "Cell \u001b[0;32mIn [131], line 3\u001b[0m\n\u001b[1;32m      1\u001b[0m \u001b[38;5;66;03m# navigate into said directory: might be unneeded if windowfootprint was run \u001b[39;00m\n\u001b[1;32m      2\u001b[0m \u001b[38;5;66;03m#os.chdir('..')\u001b[39;00m\n\u001b[0;32m----> 3\u001b[0m \u001b[43mos\u001b[49m\u001b[38;5;241;43m.\u001b[39;49m\u001b[43mchdir\u001b[49m\u001b[43m(\u001b[49m\u001b[38;5;124;43m'\u001b[39;49m\u001b[38;5;124;43mout_seq_934632\u001b[39;49m\u001b[38;5;124;43m'\u001b[39;49m\u001b[43m)\u001b[49m\n",
      "\u001b[0;31mFileNotFoundError\u001b[0m: [Errno 2] No such file or directory: 'out_seq_934632'"
     ]
    }
   ],
   "source": [
    "# navigate into said directory: might be unneeded if windowfootprint was run \n",
    "#os.chdir('..')\n",
    "os.chdir('out_seq_934632')"
   ]
  },
  {
   "cell_type": "code",
   "execution_count": 67,
   "id": "b9679c20",
   "metadata": {},
   "outputs": [
    {
     "name": "stdout",
     "output_type": "stream",
     "text": [
      "Submitted batch job 2269940\n"
     ]
    },
    {
     "data": {
      "text/plain": [
       "0"
      ]
     },
     "execution_count": 67,
     "metadata": {},
     "output_type": "execute_result"
    }
   ],
   "source": [
    "# Submit psiBLAST job, first BLAST analysis\n",
    "## MUST move run scipt into dir ##\n",
    "os.system(\"cp ../run_psiBLAST.slurm .\")\n",
    "os.system(\"sbatch run_psiBLAST.slurm\")"
   ]
  },
  {
   "cell_type": "code",
   "execution_count": 71,
   "id": "32870360",
   "metadata": {},
   "outputs": [
    {
     "name": "stdout",
     "output_type": "stream",
     "text": [
      "             JOBID PARTITION     NAME     USER ST       TIME  NODES NODELIST(REASON)\n",
      "\n"
     ]
    }
   ],
   "source": [
    "# The previous jobs must finish entirely before running the next step\n",
    "# To see status of your jobs on slurm cluster\n",
    "import os\n",
    "print(os.popen('squeue -u tgrear').read())\n"
   ]
  },
  {
   "cell_type": "code",
   "execution_count": 46,
   "id": "4b555844",
   "metadata": {},
   "outputs": [
    {
     "name": "stdout",
     "output_type": "stream",
     "text": [
      "             JOBID PARTITION     NAME     USER ST       TIME  NODES NODELIST(REASON)\n",
      "           1754950     Orion  DivSeqs jpatte75 PD       0:00      1 (Priority)\n",
      "\n"
     ]
    },
    {
     "data": {
      "text/plain": [
       "['mutated_footprints2.0.csv',\n",
       " 'Footprint_6',\n",
       " 'mutated_footprints3.0.fasta',\n",
       " 'Footprint_3',\n",
       " 'mutantFootprints_2.py',\n",
       " 'mutated_footprints1.0.csv',\n",
       " 'error_DivSeqs.err',\n",
       " 'shortblast.log',\n",
       " 'Footprint_1',\n",
       " 'make_mutatnt_seqs.sh',\n",
       " 'mutated_footprints4.0.csv',\n",
       " 'mutated_footprints.fasta',\n",
       " 'DivSeqs.log',\n",
       " 'fragSO.py',\n",
       " 'make_specific_docks.sh',\n",
       " 'mutated_footprints3.0.csv',\n",
       " 'error_BLAST.err',\n",
       " 'homologs.fasta',\n",
       " 'mutated_footprints2.0.fasta',\n",
       " 'Footprint_2',\n",
       " 'results.out',\n",
       " 'Footprint_5',\n",
       " 'PSS2Seqs.py',\n",
       " 'run_psiBLAST.slurm',\n",
       " 'mutated_footprints1.0.fasta',\n",
       " 'Footprint_0',\n",
       " 'getFragSO_v2.py',\n",
       " 'Footprint_4',\n",
       " 'mutated_footprints4.0.fasta',\n",
       " 'run_pBLAST.slurm']"
      ]
     },
     "execution_count": 46,
     "metadata": {},
     "output_type": "execute_result"
    }
   ],
   "source": [
    "# Create mutant sequences for searching PDB\n",
    "os.system(\"cp ../make_mutatnt_seqs.sh .\")\n",
    "os.system(\"cp ../mutantFootprints_2.py .\")\n",
    "os.system(\"sbatch make_mutatnt_seqs.sh\")\n",
    "#os.system(\"./make_mutatnt_seqs.sh\")\n",
    "#print(os.popen(\"./make_mutatnt_seqs.sh\").read())\n",
    "print(os.popen('squeue -u jpatte75').read())\n",
    "os.listdir()"
   ]
  },
  {
   "cell_type": "code",
   "execution_count": 47,
   "id": "56f23443",
   "metadata": {},
   "outputs": [
    {
     "name": "stdout",
     "output_type": "stream",
     "text": [
      "             JOBID PARTITION     NAME     USER ST       TIME  NODES NODELIST(REASON)\n",
      "           1754950     Orion  DivSeqs jpatte75 PD       0:00      1 (Priority)\n",
      "\n",
      "Smith-Waterman local alignment of sequences\n",
      "Smith-Waterman local alignment of sequences\n",
      "slurmstepd: error: *** JOB 1754948 ON str-c149 CANCELLED AT 2021-12-13T15:29:32 ***\n",
      "slurmstepd: error: *** JOB 1754949 ON str-c53 CANCELLED AT 2021-12-13T15:29:32 ***\n",
      "\n",
      "\n"
     ]
    }
   ],
   "source": [
    "# The previous jobs must finish entirely before running the next step\n",
    "# To see status of your jobs on slurm cluster\n",
    "print(os.popen('squeue -u jpatte75').read())\n",
    "print(os.popen('cat error_DivSeqs.err').read())\n",
    "print(os.popen('tail -5 DivSeqs.log').read())\n"
   ]
  },
  {
   "cell_type": "code",
   "execution_count": 49,
   "id": "9f5f234b",
   "metadata": {},
   "outputs": [
    {
     "data": {
      "text/plain": [
       "0"
      ]
     },
     "execution_count": 49,
     "metadata": {},
     "output_type": "execute_result"
    }
   ],
   "source": [
    "# Search PDB for distant strucutral hits, then mine these matches for peptides\n",
    "# This will produce raw fasta reads for the peptides, this will take a significant amount of time\n",
    "os.system(\"cp ../run_pBLAST.slurm .\")\n",
    "os.system(\"sbatch run_pBLAST.slurm\")"
   ]
  },
  {
   "cell_type": "code",
   "execution_count": 84,
   "id": "33c65401",
   "metadata": {},
   "outputs": [
    {
     "name": "stdout",
     "output_type": "stream",
     "text": [
      "             JOBID PARTITION     NAME     USER ST       TIME  NODES NODELIST(REASON)\n",
      "           1754963     Orion pBLAST_a jpatte75  R    6:56:50      1 str-c149\n",
      "           1754983     Orion dockmode jpatte75  R    6:32:20      1 str-c137\n",
      "\n",
      "cat: mutated_footprints.fasta: input file is output file\n",
      "\n"
     ]
    }
   ],
   "source": [
    "# The previous jobs must finish entirely before running the next step\n",
    "# To see status of your jobs on slurm cluster\n",
    "print(os.popen('squeue -u jpatte75').read())\n",
    "print(os.popen('cat error_BLAST.err').read())\n"
   ]
  },
  {
   "cell_type": "code",
   "execution_count": 66,
   "id": "679f4460",
   "metadata": {},
   "outputs": [
    {
     "data": {
      "text/plain": [
       "0"
      ]
     },
     "execution_count": 66,
     "metadata": {},
     "output_type": "execute_result"
    }
   ],
   "source": [
    "# You MUST create a docking model of the entire target protein\n",
    "# This can be run immediatly after the previous step as it is an unrelated computation\n",
    "\n",
    "# Define the target protein sequence here : Example is RIN4 \n",
    "MySequence = \"MARSNVPKFGNWEAEENVPYTAYFDKARKTRAPGSKIMNPNDPEYNSDSQSQAPPHPPSSRTKPEQVDTV\\\n",
    "RRSREHMRSREESELKQFGDAGGSSNEAANKRQGRASQNNSYDNKSPLHKNSYDGTGKSRPKPTNLRADESPEKVTVVPKFGDWDENNPS\\\n",
    "SADGYTHIFNKVREERSSGANVSGSSRTPTHQSSRNPNNTSSCCCFGFGGK\" \n",
    "# Please keep the \"\" around the sequence\n",
    "\n",
    "\n",
    "with open('proteinOfInterest_RIN4.fasta', 'w') as f:\n",
    "    print(\">protein sequence for pepStream docking routine\", file=f)\n",
    "    print(MySequence, file=f)\n",
    "f.close()\n",
    "\n",
    "os.system(\"cp ../run_iTasser_dockmodel.sh .\")\n",
    "os.system(\"sbatch run_iTasser_dockmodel.sh\")"
   ]
  },
  {
   "cell_type": "code",
   "execution_count": null,
   "id": "af14587d",
   "metadata": {},
   "outputs": [],
   "source": [
    "# After generating valid cMoRFs and the docking strucutres\n",
    "# Run I-TASSER  Z-DOCK : pass 1\n",
    "print(os.popen('sbatch runPepStream_PhysicalFilter.sh').read())"
   ]
  },
  {
   "cell_type": "code",
   "execution_count": null,
   "id": "e0bd315e",
   "metadata": {},
   "outputs": [],
   "source": [
    "# The previous jobs must finish entirely before running the next step\n",
    "# There will be many many jobs\n",
    "# To see status of your jobs on slurm cluster\n",
    "print(os.popen('squeue -u jpatte75').read())"
   ]
  },
  {
   "cell_type": "code",
   "execution_count": null,
   "id": "63398702",
   "metadata": {},
   "outputs": [],
   "source": [
    "# This creates a corse grain sort order off overall afffinity of the designed peptide against the entire target structure\n",
    "%run format_output.py "
   ]
  },
  {
   "cell_type": "code",
   "execution_count": null,
   "id": "967cc5c1",
   "metadata": {},
   "outputs": [],
   "source": [
    "# Run Z-DOCK : pass 2\n",
    "# Define the specific sites of docking\n",
    "import numpy\n",
    "\n",
    "MoRF1=numpy.arange(10, 30, 1)\n",
    "        numpy.savetxt('MoRF1_Block_Residues.txt', MoRF1, delimiter =', ')\n",
    "MoRF12=10:1:50\n",
    "        numpy.savetxt('MoRF12_Block_Residues.txt',MoRF12, delimiter =', ')\n",
    "MoRF2=40:1:50\n",
    "        numpy.savetxt('MoRF2_Block_Residues.txt', MoRF2, delimiter =', ')\n",
    "MoRF3=140:1:160\n",
    "        numpy.savetxt('MoRF3_Block_Residues.txt', MoRF3, delimiter =', ')\n",
    "Loop=100:1:120\n",
    "        numpy.savetxt('Loop_Block_Residues.txt', Loop, delimiter =', ')\n",
    "\n",
    "os.system(\"./make_specific_docks.sh\")\n",
    "# Fine grain sort order by docking specific subsites of the entire target strucutre\n",
    "# False positives are included in this evaluation to understand specificity of the binding peptide\n",
    "# This must be defined in the docking scripts for new target struct\n",
    "os.system(\"sbatch runPepStream_AnalyzeFilter.slurm\")"
   ]
  },
  {
   "cell_type": "code",
   "execution_count": null,
   "id": "f4098b99",
   "metadata": {},
   "outputs": [],
   "source": [
    "# The previous jobs must finish entirely before running the next step\n",
    "# To see status of your jobs on slurm cluster\n",
    "print(os.popen('squeue -u jpatte75').read())\n",
    "print(os.popen('cat error_BLAST.err').read())"
   ]
  },
  {
   "cell_type": "code",
   "execution_count": null,
   "id": "c4788af2",
   "metadata": {},
   "outputs": [],
   "source": [
    "# Work up results\n",
    "# Contains graphical outputs, textual outputs for sorted predictions, and runs ML models over the data to predict best sort\n",
    "# Note that the ML routines are trained off DELLA peptide data \n",
    "%run format_output_specific.py"
   ]
  }
 ],
 "metadata": {
  "kernelspec": {
   "display_name": "Python 3 (ipykernel)",
   "language": "python",
   "name": "python3"
  },
  "language_info": {
   "codemirror_mode": {
    "name": "ipython",
    "version": 3
   },
   "file_extension": ".py",
   "mimetype": "text/x-python",
   "name": "python",
   "nbconvert_exporter": "python",
   "pygments_lexer": "ipython3",
   "version": "3.10.6"
  }
 },
 "nbformat": 4,
 "nbformat_minor": 5
}
